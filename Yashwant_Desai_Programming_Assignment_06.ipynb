{
 "cells": [
  {
   "cell_type": "markdown",
   "id": "0c27a818",
   "metadata": {},
   "source": [
    "# Yashwant Desai –  Programming_Assingment 06"
   ]
  },
  {
   "cell_type": "markdown",
   "id": "693799f7",
   "metadata": {},
   "source": [
    "# 1.\tWrite a Python Program to Display Fibonacci Sequence Using Recursion?"
   ]
  },
  {
   "cell_type": "code",
   "execution_count": 1,
   "id": "54fbdcbe",
   "metadata": {},
   "outputs": [
    {
     "name": "stdout",
     "output_type": "stream",
     "text": [
      "Enter the number: 8\n",
      "Fibonacci Sequence:\n",
      "0 1 1 2 3 5 8 13 "
     ]
    }
   ],
   "source": [
    "def fibonacci_recursive(n):\n",
    "    if n <= 0:\n",
    "        return \"Invalid input.\"\n",
    "    elif n == 1:\n",
    "        return 0\n",
    "    elif n == 2:\n",
    "        return 1\n",
    "    else:\n",
    "        return fibonacci_recursive(n - 1) + fibonacci_recursive(n - 2)\n",
    "\n",
    "def display_fibonacci_sequence(n):\n",
    "    if n <= 0:\n",
    "        print(\"Invalid input.\")\n",
    "    else:\n",
    "        print(\"Fibonacci Sequence:\")\n",
    "        for i in range(1, n+1):\n",
    "            print(fibonacci_recursive(i), end=\" \")\n",
    "\n",
    "try:\n",
    "    num_terms = int(input(\"Enter the number: \"))\n",
    "    display_fibonacci_sequence(num_terms)\n",
    "except ValueError:\n",
    "    print(\"Invalid input.\")\n"
   ]
  },
  {
   "cell_type": "markdown",
   "id": "e5064e73",
   "metadata": {},
   "source": [
    "# 2.\tWrite a Python Program to Find Factorial of Number Using Recursion?"
   ]
  },
  {
   "cell_type": "code",
   "execution_count": 2,
   "id": "615e3e79",
   "metadata": {},
   "outputs": [
    {
     "name": "stdout",
     "output_type": "stream",
     "text": [
      "Enter number: 5\n",
      "The factorial of 5 is: 120\n"
     ]
    }
   ],
   "source": [
    "def factorial_recursive(n):\n",
    "    if n < 0:\n",
    "        return \"negative numbers.\"\n",
    "    elif n == 0 or n == 1:\n",
    "        return 1\n",
    "    else:\n",
    "        return n * factorial_recursive(n - 1)\n",
    "\n",
    "try:\n",
    "    num = int(input(\"Enter number: \"))\n",
    "    if num < 0:\n",
    "        print(\"negative numbers.\")\n",
    "    else:\n",
    "        result = factorial_recursive(num)\n",
    "        print(f\"The factorial of {num} is: {result}\")\n",
    "except ValueError:\n",
    "        print(\"Invalid input.\")"
   ]
  },
  {
   "cell_type": "markdown",
   "id": "cc48fa2d",
   "metadata": {},
   "source": [
    "# 3.\tWrite a Python Program to calculate your Body Mass Index?"
   ]
  },
  {
   "cell_type": "code",
   "execution_count": 3,
   "id": "88020206",
   "metadata": {},
   "outputs": [
    {
     "name": "stdout",
     "output_type": "stream",
     "text": [
      "Enter your weight in kilograms: 67\n",
      "Enter your height in centimeters: 164\n",
      "Your BMI is: 24.91\n"
     ]
    }
   ],
   "source": [
    "def check_bmi(weight, height_cm):\n",
    "    if weight <= 0 or height_cm <= 0:\n",
    "        return \"Invalid input number.\"\n",
    "    else:\n",
    "        height_m = height_cm / 100.0\n",
    "        bmi = weight / (height_m ** 2)\n",
    "        return bmi\n",
    "    \n",
    "try:\n",
    "    weight = float(input(\"Enter your weight in kilograms: \"))\n",
    "    height_cm = float(input(\"Enter your height in centimeters: \"))\n",
    "\n",
    "    bmi = check_bmi(weight, height_cm)\n",
    "\n",
    "    if isinstance(bmi, str):\n",
    "        print(bmi)\n",
    "    else:\n",
    "        print(f\"BMI is: {bmi:.2f}\")\n",
    "except ValueError:\n",
    "    print(\"Invalid input.\")"
   ]
  },
  {
   "cell_type": "markdown",
   "id": "b2bd6648",
   "metadata": {},
   "source": [
    "# 4.\tWrite a Python Program to calculate the natural logarithm of any number?"
   ]
  },
  {
   "cell_type": "code",
   "execution_count": 4,
   "id": "539a11d5",
   "metadata": {},
   "outputs": [
    {
     "name": "stdout",
     "output_type": "stream",
     "text": [
      "Enter a positive number to calculate its natural logarithm: 8\n",
      "The natural logarithm of 8.0 is: 2.0794\n"
     ]
    }
   ],
   "source": [
    "import math\n",
    "\n",
    "def calculate_natural_logarithm(number):\n",
    "    if number <= 0:\n",
    "        return \"Invalid input.\"\n",
    "    else:\n",
    "        return math.log(number)\n",
    "try:\n",
    "    num = float(input(\"Enter number: \"))\n",
    "    result = calculate_natural_logarithm(num)\n",
    "    if isinstance(result, str):\n",
    "        print(result)\n",
    "    else:\n",
    "        print(f\"The natural logarithm of {num} is: {result:.4f}\")\n",
    "except ValueError:\n",
    "    print(\"Invalid input.\")"
   ]
  },
  {
   "cell_type": "markdown",
   "id": "1caff661",
   "metadata": {},
   "source": [
    "# 5.\tWrite a Python Program for cube sum of first n natural numbers?"
   ]
  },
  {
   "cell_type": "code",
   "execution_count": 5,
   "id": "05cfe418",
   "metadata": {},
   "outputs": [
    {
     "name": "stdout",
     "output_type": "stream",
     "text": [
      "Enter the value of n to calculate the cube sum of first n natural numbers: 8\n",
      "The cube sum of the first 8 natural numbers is: 1296\n"
     ]
    }
   ],
   "source": [
    "def cube_sum_of_natural_numbers(n):\n",
    "    if n <= 0:\n",
    "        return \"Invalid input.\"\n",
    "    else:\n",
    "        cube_sum = sum(i**3 for i in range(1, n+1))\n",
    "        return cube_sum\n",
    "try:\n",
    "    num_terms = int(input(\"Enter number: \"))\n",
    "    result = cube_sum_of_natural_numbers(num_terms)\n",
    "    print(f\"The cube sum of the first {num_terms} natural numbers is: {result}\")\n",
    "except ValueError:\n",
    "    print(\"Invalid input.\")"
   ]
  },
  {
   "cell_type": "markdown",
   "id": "a79c0885",
   "metadata": {},
   "source": [
    "# Done Regards,Yashwant"
   ]
  }
 ],
 "metadata": {
  "kernelspec": {
   "display_name": "Python 3 (ipykernel)",
   "language": "python",
   "name": "python3"
  },
  "language_info": {
   "codemirror_mode": {
    "name": "ipython",
    "version": 3
   },
   "file_extension": ".py",
   "mimetype": "text/x-python",
   "name": "python",
   "nbconvert_exporter": "python",
   "pygments_lexer": "ipython3",
   "version": "3.9.13"
  }
 },
 "nbformat": 4,
 "nbformat_minor": 5
}
